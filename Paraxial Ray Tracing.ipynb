{
 "cells": [
  {
   "cell_type": "code",
   "execution_count": 1,
   "metadata": {},
   "outputs": [],
   "source": [
    "import numpy as np"
   ]
  },
  {
   "cell_type": "code",
   "execution_count": 2,
   "metadata": {},
   "outputs": [],
   "source": [
    "## na == n_j+1, ha ==... etc.\n",
    "## nb == n_j,   hb ==... etc.\n",
    "## etc...\n",
    "def para_ray_tracing(na, nb, ub, hb, Rb, dab, i):\n",
    "\n",
    "    Kb = (na - nb) / Rb\n",
    "    ua = ( (nb * ub) - (hb * Kb) ) /  na\n",
    "    ha = hb + (dab * ua)\n",
    "\n",
    "    print(\"K_{} = ({:#.5f} - {:#.5f}) / {:#.5f} = {:#.5f} mm^-1\".format(i+2, na, nb, Rb, Kb))\n",
    "    print(\"u_{} = ( ({:#.5f} * {:#.5f}) - ({:#.5f} * {:#.5f}) ) / {:#.5f} = {:#.5f}\".format(i+3, nb, ub, hb, Kb, na, ua))\n",
    "    print(\"h_{} = {:#.5f} + ({:#.5f} * {:#.5f}) = {:#.5f} mm\".format(i+3, hb, dab, ua, ha))\n",
    "    print(\"\\n\")\n",
    "    \n",
    "    return ua, ha\n",
    "\n",
    "\n",
    "def u_last(na, nb, ub, hb, Rb, i):\n",
    "    \n",
    "    Kb = (na - nb) / Rb\n",
    "    u_last = ( (nb * ub) - (hb * Kb) ) /  na\n",
    "    print(\"u_{} = ( ({:#.5f} * {:#.5f}) - ({:#.5f} * {:#.5f}) ) / {:#.5f} = {:#.5f}\".format(i, nb, ub, hb, (na - nb) / Rb, na, u_last))\n",
    "\n",
    "    return u_last\n",
    "    \n",
    "    \n",
    "    \n",
    "def focal(na, Ra, Rb, dab):\n",
    "    \n",
    "    return ( (na - 1) * ( 1/Rb - 1/Ra  ) + (na - 1) * dab / (na * Rb * Ra))**-1\n",
    "    \n",
    "    \n",
    "def problem_solver(n, R, d, h2, u2):\n",
    "    \n",
    "    ua, ha = u2, h2\n",
    "    focal_lengths = []\n",
    "    for i in range(len(d)):\n",
    "        ua, ha = para_ray_tracing(na=n[i+1], nb=n[i], ub=ua, hb=ha, Rb=R[i], dab=d[i], i=i)\n",
    "        focal_lengths.append(focal(na=n[i+1], Ra=R[i+1], Rb=R[i], dab=d[i])) \n",
    "\n",
    "    u_final = u_last(na=n[-1], nb=n[-2], ub=ua, hb=ha, Rb=R[-1], i=i+4)\n",
    "\n",
    "    f = -h2 / u_final\n",
    "    Bfd = -ha / u_final\n",
    "\n",
    "    print(\"Focal Length f = -( {:#.5f} / {:#.5f} ) = {:#.5f} mm = {:#} mm\".format(h2, u_final, f, round(f)))\n",
    "    print(\"Back Focal Distance (Bfd) = -( {:#.5f} / {:#.5f} ) = {:#.5f} mm = {:#} mm\".format(ha, u_final, Bfd, round(Bfd)))\n",
    "\n",
    "    return f, focal_lengths"
   ]
  },
  {
   "cell_type": "markdown",
   "metadata": {},
   "source": [
    "______________\n",
    "\n",
    "## How to use:\n",
    "1. You need 3 lists/arrays, and 2 initial conditions,\n",
    "    - 'n' := The refractive indices of the system (Including 'Air' or other media on the opposite side), usually 'x' in length,\n",
    "    - 'R' := The radius of curvature of each curved surface (in millimetres mm), usually 'x-1' in length\n",
    "    - 'd' := The distance between each curved surface along the optical axis (in millimetres mm), usually 'x-2' in length\n",
    "    - 'h2' := Initial parallel ray height wrt optical axis (in millimetres mm),\n",
    "    - 'u2' := Initial ray angle wrt optical axis,\n",
    "2. Define each list and input it into `problem_solver()`, a function defined above,\n",
    "3. Returns; Focal length, Back Focal Distance, and written out solution to compare.\n",
    "\n",
    "Best of luck!\n",
    " "
   ]
  },
  {
   "cell_type": "markdown",
   "metadata": {},
   "source": [
    "## Example 6"
   ]
  },
  {
   "cell_type": "code",
   "execution_count": 3,
   "metadata": {},
   "outputs": [
    {
     "name": "stdout",
     "output_type": "stream",
     "text": [
      "K_2 = (1.50000 - 1.00000) / 100.00000 = 0.00500 mm^-1\n",
      "u_3 = ( (1.00000 * 0.00000) - (10.00000 * 0.00500) ) / 1.50000 = -0.03333\n",
      "h_3 = 10.00000 + (6.00000 * -0.03333) = 9.80000 mm\n",
      "\n",
      "\n",
      "K_3 = (1.65000 - 1.50000) / -50.00000 = -0.00300 mm^-1\n",
      "u_4 = ( (1.50000 * -0.03333) - (9.80000 * -0.00300) ) / 1.65000 = -0.01248\n",
      "h_4 = 9.80000 + (3.00000 * -0.01248) = 9.76255 mm\n",
      "\n",
      "\n",
      "u_5 = ( (1.65000 * -0.01248) - (9.76255 * 0.00325) ) / 1.00000 = -0.05233\n",
      "Focal Length f = -( 10.00000 / -0.05233 ) = 191.10128 mm = 191 mm\n",
      "Back Focal Distance (Bfd) = -( 9.76255 / -0.05233 ) = 186.56350 mm = 187 mm\n"
     ]
    }
   ],
   "source": [
    "n = [1, 1.5, 1.65, 1]\n",
    "R = [100, -50, -200]\n",
    "d = [6, 3]\n",
    "\n",
    "h2, u2 = 10, 0\n",
    "\n",
    "f, focal_lengths = problem_solver(n, R, d, h2, u2)"
   ]
  },
  {
   "cell_type": "markdown",
   "metadata": {},
   "source": [
    "___________\n",
    "## Problem 6"
   ]
  },
  {
   "cell_type": "code",
   "execution_count": 4,
   "metadata": {},
   "outputs": [
    {
     "name": "stdout",
     "output_type": "stream",
     "text": [
      "K_2 = (1.51870 - 1.00000) / 247.00000 = 0.00210 mm^-1\n",
      "u_3 = ( (1.00000 * 0.00000) - (10.00000 * 0.00210) ) / 1.51870 = -0.01383\n",
      "h_3 = 10.00000 + (6.00000 * -0.01383) = 9.91703 mm\n",
      "\n",
      "\n",
      "K_3 = (1.67760 - 1.51870) / -177.00000 = -0.00090 mm^-1\n",
      "u_4 = ( (1.51870 * -0.01383) - (9.91703 * -0.00090) ) / 1.67760 = -0.00721\n",
      "h_4 = 9.91703 + (3.00000 * -0.00721) = 9.89540 mm\n",
      "\n",
      "\n",
      "u_5 = ( (1.67760 * -0.00721) - (9.89540 * 0.00131) ) / 1.00000 = -0.02507\n",
      "Focal Length f = -( 10.00000 / -0.02507 ) = 398.94085 mm = 399 mm\n",
      "Back Focal Distance (Bfd) = -( 9.89540 / -0.02507 ) = 394.76799 mm = 395 mm\n"
     ]
    }
   ],
   "source": [
    "n = [1, 1.5187, 1.6776, 1]\n",
    "R = [247, -177, -517]\n",
    "d = [6, 3]\n",
    "\n",
    "h2, u2 = 10, 0\n",
    "\n",
    "f, focal_lengths = problem_solver(n, R, d, h2, u2)"
   ]
  },
  {
   "cell_type": "markdown",
   "metadata": {},
   "source": [
    "___________\n",
    "## Problem 8 (Eye)"
   ]
  },
  {
   "cell_type": "code",
   "execution_count": 5,
   "metadata": {},
   "outputs": [
    {
     "name": "stdout",
     "output_type": "stream",
     "text": [
      "K_2 = (1.37600 - 1.00000) / 7.70000 = 0.04883 mm^-1\n",
      "u_3 = ( (1.00000 * 0.00000) - (1.00000 * 0.04883) ) / 1.37600 = -0.03549\n",
      "h_3 = 1.00000 + (0.50000 * -0.03549) = 0.98226 mm\n",
      "\n",
      "\n",
      "K_3 = (1.33600 - 1.37600) / 6.80000 = -0.00588 mm^-1\n",
      "u_4 = ( (1.37600 * -0.03549) - (0.98226 * -0.00588) ) / 1.33600 = -0.03223\n",
      "h_4 = 0.98226 + (3.30000 * -0.03223) = 0.87591 mm\n",
      "\n",
      "\n",
      "K_4 = (1.42000 - 1.33600) / 11.00000 = 0.00764 mm^-1\n",
      "u_5 = ( (1.33600 * -0.03223) - (0.87591 * 0.00764) ) / 1.42000 = -0.03503\n",
      "h_5 = 0.87591 + (3.50000 * -0.03503) = 0.75331 mm\n",
      "\n",
      "\n",
      "u_6 = ( (1.42000 * -0.03503) - (0.75331 * 0.01400) ) / 1.33600 = -0.04513\n",
      "Focal Length f = -( 1.00000 / -0.04513 ) = 22.16019 mm = 22 mm\n",
      "Back Focal Distance (Bfd) = -( 0.75331 / -0.04513 ) = 16.69346 mm = 17 mm\n"
     ]
    }
   ],
   "source": [
    "n = [1, 1.376, 1.336, 1.42, 1.336]\n",
    "R = [7.7, 6.8, 11, -6]\n",
    "d = [0.5, 3.3, 3.5]\n",
    "\n",
    "h2, u2 = 1, 0\n",
    "\n",
    "f, focal_lengths = problem_solver(n, R, d, h2, u2)"
   ]
  },
  {
   "cell_type": "markdown",
   "metadata": {},
   "source": [
    "___________\n",
    "## 2018/2019 Q2"
   ]
  },
  {
   "cell_type": "code",
   "execution_count": 6,
   "metadata": {},
   "outputs": [
    {
     "name": "stdout",
     "output_type": "stream",
     "text": [
      "K_2 = (1.51680 - 1.00000) / 264.00000 = 0.00196 mm^-1\n",
      "u_3 = ( (1.00000 * 0.00000) - (10.00000 * 0.00196) ) / 1.51680 = -0.01291\n",
      "h_3 = 10.00000 + (9.00000 * -0.01291) = 9.88385 mm\n",
      "\n",
      "\n",
      "K_3 = (1.67300 - 1.51680) / inf = 0.00000 mm^-1\n",
      "u_4 = ( (1.51680 * -0.01291) - (9.88385 * 0.00000) ) / 1.67300 = -0.01170\n",
      "h_4 = 9.88385 + (6.00000 * -0.01170) = 9.81364 mm\n",
      "\n",
      "\n",
      "u_5 = ( (1.67300 * -0.01170) - (9.81364 * -0.00100) ) / 1.00000 = -0.00973\n",
      "Focal Length f = -( 10.00000 / -0.00973 ) = 1027.44655 mm = 1027 mm\n",
      "Back Focal Distance (Bfd) = -( 9.81364 / -0.00973 ) = 1008.29910 mm = 1008 mm\n"
     ]
    }
   ],
   "source": [
    "n = [1, 1.5168, 1.6730, 1]\n",
    "R = [264, np.inf, 671]\n",
    "d = [9, 6]\n",
    "\n",
    "h2, u2 = 10, 0\n",
    "\n",
    "f, focal_lengths = problem_solver(n, R, d, h2, u2)"
   ]
  },
  {
   "cell_type": "markdown",
   "metadata": {},
   "source": [
    "___________\n",
    "## 2019/2020 Q2"
   ]
  },
  {
   "cell_type": "code",
   "execution_count": 7,
   "metadata": {},
   "outputs": [
    {
     "name": "stdout",
     "output_type": "stream",
     "text": [
      "K_2 = (1.51680 - 1.00000) / 514.00000 = 0.00101 mm^-1\n",
      "u_3 = ( (1.00000 * 0.00000) - (10.00000 * 0.00101) ) / 1.51680 = -0.00663\n",
      "h_3 = 10.00000 + (10.00000 * -0.00663) = 9.93371 mm\n",
      "\n",
      "\n",
      "K_3 = (1.67300 - 1.51680) / -532.00000 = -0.00029 mm^-1\n",
      "u_4 = ( (1.51680 * -0.00663) - (9.93371 * -0.00029) ) / 1.67300 = -0.00427\n",
      "h_4 = 9.93371 + (5.00000 * -0.00427) = 9.91238 mm\n",
      "\n",
      "\n",
      "u_5 = ( (1.67300 * -0.00427) - (9.91238 * 0.00028) ) / 1.00000 = -0.00991\n",
      "Focal Length f = -( 10.00000 / -0.00991 ) = 1009.49836 mm = 1009 mm\n",
      "Back Focal Distance (Bfd) = -( 9.91238 / -0.00991 ) = 1000.65315 mm = 1001 mm\n"
     ]
    }
   ],
   "source": [
    "n = [1, 1.5168, 1.6730, 1]\n",
    "R = [514, -532, -2410]\n",
    "d = [10, 5]\n",
    "\n",
    "h2, u2 = 10, 0\n",
    "\n",
    "f, focal_lengths = problem_solver(n, R, d, h2, u2)"
   ]
  },
  {
   "cell_type": "code",
   "execution_count": 8,
   "metadata": {},
   "outputs": [
    {
     "data": {
      "text/plain": [
       "-1.0025796697544094"
      ]
     },
     "execution_count": 8,
     "metadata": {},
     "output_type": "execute_result"
    }
   ],
   "source": [
    "V1, V2 = 64.2, 32.2\n",
    "\n",
    "focal_lengths[0] / focal_lengths[1] - V2/V1"
   ]
  },
  {
   "cell_type": "code",
   "execution_count": 9,
   "metadata": {},
   "outputs": [
    {
     "data": {
      "text/plain": [
       "1020.1996525420693"
      ]
     },
     "execution_count": 9,
     "metadata": {},
     "output_type": "execute_result"
    }
   ],
   "source": [
    "np.sum(1/ np.asarray(focal_lengths))**-1"
   ]
  },
  {
   "cell_type": "code",
   "execution_count": 9,
   "metadata": {},
   "outputs": [
    {
     "data": {
      "text/plain": [
       "-1026.8785496334226"
      ]
     },
     "execution_count": 9,
     "metadata": {},
     "output_type": "execute_result"
    }
   ],
   "source": [
    "(1/f - 1/focal_lengths[0])**-1"
   ]
  },
  {
   "cell_type": "code",
   "execution_count": 10,
   "metadata": {},
   "outputs": [
    {
     "name": "stdout",
     "output_type": "stream",
     "text": [
      "K_2 = (1.51680 - 1.00000) / 514.00000 = 0.00101 mm^-1\n",
      "u_3 = ( (1.00000 * 0.00000) - (10.00000 * 0.00101) ) / 1.51680 = -0.00663\n",
      "h_3 = 10.00000 + (10.00000 * -0.00663) = 9.93371 mm\n",
      "\n",
      "\n",
      "u_4 = ( (1.51680 * -0.00663) - (9.93371 * 0.00097) ) / 1.00000 = -0.01970\n",
      "Focal Length f = -( 10.00000 / -0.01970 ) = 507.50171 mm = 508 mm\n",
      "Back Focal Distance (Bfd) = -( 9.93371 / -0.01970 ) = 504.13762 mm = 504 mm\n"
     ]
    }
   ],
   "source": [
    "n = [1, 1.5168, 1]\n",
    "R = [514, -532]\n",
    "d = [10]\n",
    "\n",
    "h2, u2 = 10, 0\n",
    "\n",
    "f, focal_lengths = problem_solver(n, R, d, h2, u2)"
   ]
  },
  {
   "cell_type": "code",
   "execution_count": 11,
   "metadata": {},
   "outputs": [
    {
     "name": "stdout",
     "output_type": "stream",
     "text": [
      "K_2 = (1.67300 - 1.00000) / -532.00000 = -0.00127 mm^-1\n",
      "u_3 = ( (1.00000 * 0.00000) - (10.00000 * -0.00127) ) / 1.67300 = 0.00756\n",
      "h_3 = 10.00000 + (5.00000 * 0.00756) = 10.03781 mm\n",
      "\n",
      "\n",
      "u_4 = ( (1.67300 * 0.00756) - (10.03781 * -0.00028) ) / 1.00000 = 0.01545\n",
      "Focal Length f = -( 10.00000 / 0.01545 ) = -647.10407 mm = -647 mm\n",
      "Back Focal Distance (Bfd) = -( 10.03781 / 0.01545 ) = -649.55060 mm = -650 mm\n"
     ]
    }
   ],
   "source": [
    "n = [1, 1.6730, 1]\n",
    "R = [-532, 2410]\n",
    "d = [5]\n",
    "\n",
    "h2, u2 = 10, 0\n",
    "\n",
    "f, focal_lengths = problem_solver(n, R, d, h2, u2)"
   ]
  },
  {
   "cell_type": "markdown",
   "metadata": {},
   "source": [
    "___________\n",
    "## 2021/2020 Q2"
   ]
  },
  {
   "cell_type": "code",
   "execution_count": 7,
   "metadata": {},
   "outputs": [
    {
     "name": "stdout",
     "output_type": "stream",
     "text": [
      "K_2 = (1.51680 - 1.00000) / 514.00000 = 0.00101 mm^-1\n",
      "u_3 = ( (1.00000 * 0.00000) - (10.00000 * 0.00101) ) / 1.51680 = -0.00663\n",
      "h_3 = 10.00000 + (10.00000 * -0.00663) = 9.93371 mm\n",
      "\n",
      "\n",
      "K_3 = (1.67300 - 1.51680) / -532.00000 = -0.00029 mm^-1\n",
      "u_4 = ( (1.51680 * -0.00663) - (9.93371 * -0.00029) ) / 1.67300 = -0.00427\n",
      "h_4 = 9.93371 + (5.00000 * -0.00427) = 9.91238 mm\n",
      "\n",
      "\n",
      "u_5 = ( (1.67300 * -0.00427) - (9.91238 * 0.00028) ) / 1.00000 = -0.00991\n",
      "Focal Length f = -( 10.00000 / -0.00991 ) = 1009.49836 mm = 1009 mm\n",
      "Back Focal Distance (Bfd) = -( 9.91238 / -0.00991 ) = 1000.65315 mm = 1001 mm\n"
     ]
    }
   ],
   "source": [
    "n = [1, , , 1]\n",
    "R = [, , ]\n",
    "d = [, ]\n",
    "\n",
    "h2, u2 = 10, 0\n",
    "\n",
    "f, focal_lengths = problem_solver(n, R, d, h2, u2)"
   ]
  }
 ],
 "metadata": {
  "kernelspec": {
   "display_name": "Python 3",
   "language": "python",
   "name": "python3"
  },
  "language_info": {
   "codemirror_mode": {
    "name": "ipython",
    "version": 3
   },
   "file_extension": ".py",
   "mimetype": "text/x-python",
   "name": "python",
   "nbconvert_exporter": "python",
   "pygments_lexer": "ipython3",
   "version": "3.8.5"
  }
 },
 "nbformat": 4,
 "nbformat_minor": 4
}
