{
 "cells": [
  {
   "cell_type": "code",
   "execution_count": 1,
   "metadata": {},
   "outputs": [],
   "source": [
    "import numpy as np"
   ]
  },
  {
   "cell_type": "code",
   "execution_count": 2,
   "metadata": {},
   "outputs": [],
   "source": [
    "## na == n_j+1, ha ==... etc.\n",
    "## nb == n_j,   hb ==... etc.\n",
    "## etc...\n",
    "def para_ray_tracing(na, nb, ub, hb, Rb, dab, i):\n",
    "\n",
    "    Kb = (na - nb) / Rb\n",
    "    ua = ( (nb * ub) - (hb * Kb) ) /  na\n",
    "    ha = hb + (dab * ua)\n",
    "\n",
    "    print(\"K_{} = ({:#.5f} - {:#.5f}) / {:#.5f} = {:#.5f} mm^-1\".format(i+2, na, nb, Rb, Kb))\n",
    "    print(\"u_{} = ( ({:#.5f} * {:#.5f}) - ({:#.5f} * {:#.5f}) ) / {:#.5f} = {:#.5f}\".format(i+3, nb, ub, hb, Kb, na, ua))\n",
    "    print(\"h_{} = {:#.5f} + ({:#.5f} * {:#.5f}) = {:#.5f} mm\".format(i+3, hb, dab, ua, ha))\n",
    "    print(\"\\n\")\n",
    "    \n",
    "    return ua, ha\n",
    "\n",
    "\n",
    "def u_last(na, nb, ub, hb, Rb, i):\n",
    "    \n",
    "    Kb = (na - nb) / Rb\n",
    "    u_last = ( (nb * ub) - (hb * Kb) ) /  na\n",
    "    print(\"u_{} = ( ({:#.5f} * {:#.5f}) - ({:#.5f} * {:#.5f}) ) / {:#.5f} = {:#.5f}\".format(i, nb, ub, hb, (na - nb) / Rb, na, u_last))\n",
    "\n",
    "    return u_last\n",
    "    \n",
    "    \n",
    "    \n",
    "def focal(na, Ra, Rb, dab):\n",
    "    \n",
    "    return ( (na - 1) * ( 1/Rb - 1/Ra  ) + (na - 1) * dab / (na * Rb * Ra))**-1\n",
    "    \n",
    "    \n",
    "def problem_solver(n, R, d, h2, u2):\n",
    "    \n",
    "    ua, ha = u2, h2\n",
    "    focal_lengths = []\n",
    "    for i in range(len(d)):\n",
    "        ua, ha = para_ray_tracing(na=n[i+1], nb=n[i], ub=ua, hb=ha, Rb=R[i], dab=d[i], i=i)\n",
    "        focal_lengths.append(focal(na=n[i+1], Ra=R[i+1], Rb=R[i], dab=d[i])) \n",
    "\n",
    "    u_final = u_last(na=n[-1], nb=n[-2], ub=ua, hb=ha, Rb=R[-1], i=i+4)\n",
    "\n",
    "    f = -h2 / u_final\n",
    "    Bfd = -ha / u_final\n",
    "\n",
    "    print(\"Focal Length f = -( {:#.5f} / {:#.5f} ) = {:#.5f} mm = {:#} mm\".format(h2, u_final, f, round(f)))\n",
    "    print(\"Back Focal Distance (Bfd) = -( {:#.5f} / {:#.5f} ) = {:#.5f} mm = {:#} mm\".format(ha, u_final, Bfd, round(Bfd)))\n",
    "\n",
    "    return f, focal_lengths"
   ]
  },
  {
   "cell_type": "markdown",
   "metadata": {},
   "source": [
    "______________\n",
    "\n",
    "## How to use:\n",
    "1. You need 3 lists/arrays, and 2 initial conditions,\n",
    "    - 'n' := The refractive indices of the system (Including media on the outside), usually 'x' values in array,\n",
    "    - 'R' := The radius of curvature of each curved surface (in millimetres mm), usually 'x-1' values in array,\n",
    "    - 'd' := The distance between each curved surface along the optical axis (in millimetres mm), usually 'x-2' values in array,\n",
    "    - 'h2' := Initial parallel ray height wrt optical axis (in millimetres mm),\n",
    "    - 'u2' := Initial ray angle wrt optical axis,\n",
    "2. Define each list and input it into `problem_solver()`, a function defined above,\n",
    "3. Returns; Focal length, Back Focal Distance, and written out solution to compare.\n",
    "\n",
    "Best of luck!\n",
    " "
   ]
  },
  {
   "cell_type": "markdown",
   "metadata": {},
   "source": [
    "## Example"
   ]
  },
  {
   "cell_type": "code",
   "execution_count": 3,
   "metadata": {},
   "outputs": [
    {
     "name": "stdout",
     "output_type": "stream",
     "text": [
      "K_2 = (1.50000 - 1.00000) / 100.00000 = 0.00500 mm^-1\n",
      "u_3 = ( (1.00000 * 0.00000) - (10.00000 * 0.00500) ) / 1.50000 = -0.03333\n",
      "h_3 = 10.00000 + (6.00000 * -0.03333) = 9.80000 mm\n",
      "\n",
      "\n",
      "K_3 = (1.65000 - 1.50000) / -50.00000 = -0.00300 mm^-1\n",
      "u_4 = ( (1.50000 * -0.03333) - (9.80000 * -0.00300) ) / 1.65000 = -0.01248\n",
      "h_4 = 9.80000 + (3.00000 * -0.01248) = 9.76255 mm\n",
      "\n",
      "\n",
      "u_5 = ( (1.65000 * -0.01248) - (9.76255 * 0.00325) ) / 1.00000 = -0.05233\n",
      "Focal Length f = -( 10.00000 / -0.05233 ) = 191.10128 mm = 191 mm\n",
      "Back Focal Distance (Bfd) = -( 9.76255 / -0.05233 ) = 186.56350 mm = 187 mm\n"
     ]
    }
   ],
   "source": [
    "n = [1, 1.5, 1.65, 1]\n",
    "R = [100, -50, -200]\n",
    "d = [6, 3]\n",
    "\n",
    "h2, u2 = 10, 0\n",
    "\n",
    "f, focal_lengths = problem_solver(n, R, d, h2, u2)"
   ]
  }
 ],
 "metadata": {
  "kernelspec": {
   "display_name": "Python 3",
   "language": "python",
   "name": "python3"
  },
  "language_info": {
   "codemirror_mode": {
    "name": "ipython",
    "version": 3
   },
   "file_extension": ".py",
   "mimetype": "text/x-python",
   "name": "python",
   "nbconvert_exporter": "python",
   "pygments_lexer": "ipython3",
   "version": "3.8.5"
  }
 },
 "nbformat": 4,
 "nbformat_minor": 4
}
