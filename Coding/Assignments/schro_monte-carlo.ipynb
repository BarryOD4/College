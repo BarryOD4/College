{
 "cells": [
  {
   "cell_type": "markdown",
   "metadata": {},
   "source": [
    "Shchrödinger's Equation\n",
    "=====\n",
    "# Barry O'Donnell\n",
    "\n",
    "## 24/10/2019\n",
    "\n",
    "This assignment looks at using *algorithms* to compute a solution to Shchrödinger's Equation when a particle is trapped within an infinite-potential well of width *L* (in this example, *L = 1*)\n",
    "\n",
    "To solve this problem, I will be using the following formulae;\n",
    "\n",
    "### $$ I = \\int^{b}_{a} f(x) dx \\simeq \\Sigma^{n-1}_{i=0} f(x_i)h $$\n",
    "Where;\n",
    "### $$ f(x) = 2sin^2(\\pi x) $$\n",
    "### $$ h = \\frac{b-a}{n} $$\n",
    "\n",
    "\n",
    "\n",
    "Here;\n",
    "* $I$ or $P$ is the probability of the particle being located between positions $b$ and $a$ in the well\n",
    "* $x$ is the array of positions in the well\n",
    "\n",
    "In my code, I avoid using $h$ and instead opt for taking the first 2 values of my `np.linspace` array. I call this $dx$, which is functionally the same as $h$.\n",
    "\n",
    "## Task 1\n",
    "- I will program the rectangle rule and calculate a rough estimate of the integral of the function $f(x)$\n",
    "\n",
    "## Task 2\n",
    "- I will import `scipy.integrate.quad` and use it to calculate a more accurate value for the integral of $f(x)$\n",
    "\n",
    "## Task 3\n",
    "- I will compare my rectangle rule's accuracy to the *SciPy* function for multiple numbers of steps.\n",
    "- I will then plot this accuracy versus the amount of steps needed\n",
    "\n",
    "## Task 4\n",
    "- I will code a simple version of the Monte-Carlo method for integration to solve the 1-D integral.\n",
    "- I will then plot an intepretation of what the Monte-Carlo method is doing, and a comparison of accuracy to steps needed"
   ]
  },
  {
   "cell_type": "code",
   "execution_count": 1,
   "metadata": {},
   "outputs": [],
   "source": [
    "## Begin by importing necessary modules\n",
    "import numpy as np\n",
    "import matplotlib.pyplot as plt\n",
    "\n",
    "## Introduce constants\n",
    "x_min = 0\n",
    "x_max = 1/3\n",
    "\n",
    "\n",
    "## Define function to be used throughout assignment\n",
    "def f(x):\n",
    "    \"\"\" Takes in value/s 'x' which represent a position in an\n",
    "        infinite potential well of length L=1\n",
    "        \n",
    "        Args;\n",
    "        'x' :- int. / array of ints.\n",
    "        \n",
    "        Returns;\n",
    "        int. / array of ints.\n",
    "    \"\"\"\n",
    "    return (2 * np.sin(np.pi * x)**2)\n",
    "\n",
    "def rect_rule(f, x):\n",
    "    \"\"\" Takes in function and array of 2 or more ints.\n",
    "        \n",
    "        Args;\n",
    "        'f' :- function with integer return\n",
    "        'x' :- array of 2 or more values\n",
    "        \n",
    "        Returns;\n",
    "        int.. Integral of 'f' between min array and max array\n",
    "    \"\"\"\n",
    "    dx = (x[1] - x[0])\n",
    "    return (np.sum(f(x) * dx))"
   ]
  },
  {
   "cell_type": "markdown",
   "metadata": {},
   "source": [
    "## Task 1\n",
    "Calculating the probability of the particle being between 0 and $\\frac{1}{3}$"
   ]
  },
  {
   "cell_type": "code",
   "execution_count": 2,
   "metadata": {},
   "outputs": [
    {
     "name": "stdout",
     "output_type": "stream",
     "text": [
      "Probability it lies between x=0.00 and x=0.33:\n",
      "-> = 0.19803\n"
     ]
    }
   ],
   "source": [
    "## 'n' refers to the amount of steps it takes to go from\n",
    "##  x_min to x_max\n",
    "n = 100\n",
    "\n",
    "## Create an array of 'x' values for f(x)\n",
    "##  Calculate the constant 'dx' to later calculate probability\n",
    "x = np.linspace(x_min, x_max, num=n)\n",
    "\n",
    "## Calculate porbability\n",
    "Prob = rect_rule(f,x)\n",
    "\n",
    "print(\"\"\"Probability it lies between x={0:3.2f} and x={1:3.2f}:\n",
    "-> = {2:4.5f}\"\"\".format(x_min, x_max, Prob))"
   ]
  },
  {
   "cell_type": "markdown",
   "metadata": {},
   "source": [
    "The probability $\\simeq 0.2$. This is the expected result."
   ]
  },
  {
   "cell_type": "markdown",
   "metadata": {},
   "source": [
    "## Task 2\n",
    "Importing the `SciPy` module to get a more accurate result for the integral"
   ]
  },
  {
   "cell_type": "code",
   "execution_count": 3,
   "metadata": {},
   "outputs": [
    {
     "name": "stdout",
     "output_type": "stream",
     "text": [
      "Probability it lies between x=0.00 and x=0.33:\n",
      "-> = 0.19550 +/- 2.17050e-15\n"
     ]
    }
   ],
   "source": [
    "## Import required 'SciPy' module\n",
    "import scipy.integrate as sci\n",
    "\n",
    "## Calculate integral of f(x) using 'SciPy' function\n",
    "integral = sci.quad(f, x_min, x_max)\n",
    "\n",
    "print(\"\"\"Probability it lies between x={0:3.2f} and x={1:3.2f}:\n",
    "-> = {2:4.5f} +/- {3:4.5e}\"\"\".format(x_min, x_max, integral[0], integral[1]))"
   ]
  },
  {
   "cell_type": "markdown",
   "metadata": {},
   "source": [
    "This result is a lot more accurate than the rectangle rule"
   ]
  },
  {
   "cell_type": "markdown",
   "metadata": {},
   "source": [
    "## Task 3\n",
    "Comparing the `SciPy` function to rectangle rule and plotting the accuracy.\n",
    "\n",
    "Accuracy will be determined by the formula;\n",
    "### $$ \\eta = \\frac{|measured - expected|}{expected} $$\n",
    "Where;\n",
    "* $\\eta$ is the accuracy of the rectangle rule,\n",
    "* `measured` is the integral found using the rectangle rule,\n",
    "* `expected` is the integral found using the `SciPy` function."
   ]
  },
  {
   "cell_type": "code",
   "execution_count": 4,
   "metadata": {},
   "outputs": [
    {
     "data": {
      "image/png": "[encoded data removed]",
      "text/plain": [
       "<Figure size 504x504 with 1 Axes>"
      ]
     },
     "metadata": {
      "needs_background": "light"
     },
     "output_type": "display_data"
    }
   ],
   "source": [
    "## Calculate integral using 'SciPy' function\n",
    "expected = sci.quad(f, x_min, x_max)[0]\n",
    "\n",
    "## Define const for step size\n",
    "length = 7\n",
    "P = np.zeros(length)\n",
    "accuracy = np.zeros(length)\n",
    "\n",
    "## Begin plot definitions\n",
    "plt.figure(1, figsize=(7,7))\n",
    "\n",
    "## Begin 'for' loop to calculate probability 'P' for some\n",
    "##  number of 'steps'. 'Step' amount increase tenfold each\n",
    "##  loop. Plot each point at the end of every loop\n",
    "for i in range(length):\n",
    "    steps = 10**(i+1)\n",
    "    x = np.linspace(x_min, x_max, num=steps)\n",
    "\n",
    "    ## Calculating probability of position\n",
    "    P[i] = rect_rule(f,x)\n",
    "    \n",
    "    ## Comparing accuracy of rectangle rule to numerical function\n",
    "    accuracy[i] = (abs(P[i] - expected) / expected)\n",
    "    \n",
    "    ## Plotting relationship between accuracy and steps used\n",
    "    plt.plot(steps, accuracy[i], 'o', label=\"{} steps\".format(steps))\n",
    "\n",
    "## Further plot definitions, show relationship between accuracy and P as steps increase\n",
    "plt.title('Accuracy-Step relationship')\n",
    "plt.ylabel('% difference from expected value (Lower is Better)')\n",
    "plt.xlabel('Steps')\n",
    "plt.semilogx()\n",
    "plt.semilogy()\n",
    "plt.legend()\n",
    "plt.show(1)"
   ]
  },
  {
   "cell_type": "markdown",
   "metadata": {},
   "source": [
    "The relationship is logarithmic but resembles a linear function of $y = mx + c$\n",
    "\n",
    "Here;\n",
    "* $y$ = log(% Difference)\n",
    "* $x$ = log(Steps)\n",
    "* $m$ and $c$ are some constants\n",
    "\n",
    "This linear relationship is of the first order"
   ]
  },
  {
   "cell_type": "markdown",
   "metadata": {},
   "source": [
    "## Task 4\n",
    "Using the Monte-Carlo method to calculate the integral and comparting it to the `SciPy` fucntion.\n",
    "\n",
    "The integral from the Monte-Carlo method is found by using the formula;\n",
    "### $$ \\frac{summation}{trials} \\simeq \\frac{integral}{box\\;area} $$\n",
    "or\n",
    "### $$ integral \\simeq \\frac{box\\;area * summation}{trials} $$"
   ]
  },
  {
   "cell_type": "code",
   "execution_count": 5,
   "metadata": {},
   "outputs": [
    {
     "data": {
      "image/png": "[encoded data removed]",
      "text/plain": [
       "<Figure size 432x288 with 1 Axes>"
      ]
     },
     "metadata": {
      "needs_background": "light"
     },
     "output_type": "display_data"
    },
    {
     "data": {
      "image/png": "[encoded data removed]",
      "text/plain": [
       "<Figure size 432x288 with 1 Axes>"
      ]
     },
     "metadata": {
      "needs_background": "light"
     },
     "output_type": "display_data"
    },
    {
     "name": "stdout",
     "output_type": "stream",
     "text": [
      "Summation/Trials = 0.385\n",
      "Integral/Box Area = 0.391\n",
      "\n",
      "Integral from SciPy = 0.19550\n",
      "Integral from Monte-Carlo (After 10000 trials) = 0.19230\n"
     ]
    }
   ],
   "source": [
    "## Length of 'x' array\n",
    "n=100\n",
    "\n",
    "x = np.linspace(x_min, x_max, num=n)\n",
    "\n",
    "## Get min. and max. 'y' values\n",
    "y_min = np.min(f(x))\n",
    "y_max = np.max(f(x))\n",
    "\n",
    "## Calculate expected integral value\n",
    "expected = sci.quad(f, x_min, x_max)[0]\n",
    "\n",
    "## Calculate 'Box Area' and 'RHS' values from formulae provided\n",
    "box_area = x_max * y_max\n",
    "rhs = expected / box_area\n",
    "\n",
    "## Begin nested 'for' loop to get 'summation' for each amount of 'trials'\n",
    "##  'factor' refers to power of 10 to go up to, ie. factor=4 goes from 10 to 10000 trials.\n",
    "factor = 4\n",
    "for i in range(factor):\n",
    "    trials = 10**(i+1)\n",
    "    \n",
    "    ## Introduce 'summation' term for each loop\n",
    "    summation = 0\n",
    "    \n",
    "    ## Begin 'for' loop for trials for Monte-Carlo\n",
    "    for j in range(trials):\n",
    "        x_temp = x_max * np.random.random()\n",
    "        y_temp = y_max * np.random.random()\n",
    "        \n",
    "        ## For first plot, I want to visualise how many 'points' fall underneath and above the curve 'f'\n",
    "        if f(x_temp) >= y_temp:\n",
    "            summation += 1\n",
    "            if (i+1) == factor:\n",
    "                plt.figure(1)\n",
    "                plt.plot(x_temp, y_temp, 'go')\n",
    "        else:\n",
    "            if (i+1) == factor:\n",
    "                plt.figure(1)\n",
    "                plt.plot(x_temp, y_temp, 'ro')\n",
    "            \n",
    "    ## Calculate the 'LHS' of the formula above\n",
    "    lhs = summation / trials\n",
    "\n",
    "    ## Calculating the Monte-Carlo integral\n",
    "    monte_carlo_integral = lhs * box_area\n",
    "\n",
    "    ## Calculating the error of the Monte-Carlo integral with relation to expected integral\n",
    "    error = (abs((monte_carlo_integral - expected) / expected))\n",
    "\n",
    "    ## Plotting the comparison of trials to error for the Monte-Carlo integral\n",
    "    plt.figure(2)\n",
    "    plt.plot(trials, error, 'o', label=\"{} trials\".format(trials))\n",
    "\n",
    "    \n",
    "## Overlaying the curve 'f' on the Monte-Carlo plot to observe how it works\n",
    "plt.figure(1)\n",
    "plt.plot(x, f(x), 'k-', label='Analytic Solution')\n",
    "plt.title('Monte-Carlo Simulation ({} trials)'.format(trials))\n",
    "plt.xlabel(\"Position 'x' in well\")\n",
    "plt.legend()\n",
    "\n",
    "## Titling graph of accuracy\n",
    "plt.figure(2)\n",
    "plt.title(\"Trials vs Accuracy (Monte-Carlo vs Analytic Integration)\")\n",
    "plt.xlabel(\"Trials\")\n",
    "plt.ylabel(\"Accuracy (Lower is Better)\")\n",
    "plt.legend()\n",
    "\n",
    "plt.show()\n",
    "\n",
    "## Printing the original formula with values taken from the last loop\n",
    "print(\"\"\"Summation/Trials = {0:2.3f}\n",
    "Integral/Box Area = {1:2.3f}\n",
    "\n",
    "Integral from SciPy = {2:2.5f}\n",
    "Integral from Monte-Carlo (After {3:0.0f} trials) = {4:2.5f}\"\"\".format(lhs, rhs, expected, trials, monte_carlo_integral))"
   ]
  },
  {
   "cell_type": "markdown",
   "metadata": {},
   "source": [
    "The result obtained shows that Monte-Carlo becomes more accurate after large amounts of trials, getting very close to the expected integral after $\\sim$10,000 trials.\n",
    "\n",
    "The time it takes to run the Monte-Carlo with the visualising graph is a lot longer than in takes to run the `SciPy` function, as expected."
   ]
  }
 ],
 "metadata": {
  "kernelspec": {
   "display_name": "Python 3",
   "language": "python",
   "name": "python3"
  },
  "language_info": {
   "codemirror_mode": {
    "name": "ipython",
    "version": 3
   },
   "file_extension": ".py",
   "mimetype": "text/x-python",
   "name": "python",
   "nbconvert_exporter": "python",
   "pygments_lexer": "ipython3",
   "version": "3.8.5"
  }
 },
 "nbformat": 4,
 "nbformat_minor": 4
}
