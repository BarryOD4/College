{
 "cells": [
  {
   "cell_type": "code",
   "execution_count": null,
   "metadata": {},
   "outputs": [],
   "source": [
    "## Import packages + libraries for later use\n",
    "%matplotlib inline\n",
    "\n",
    "import os\n",
    "import cv2\n",
    "import numpy as np\n",
    "import matplotlib.pyplot as plt\n",
    "import random\n",
    "\n",
    "from sklearn.preprocessing import LabelEncoder\n",
    "from sklearn.model_selection import StratifiedShuffleSplit\n",
    "from sklearn import preprocessing\n",
    "\n",
    "from keras.applications.vgg16 import VGG16, preprocess_input\n",
    "from keras.preprocessing.image import load_img,img_to_array\n",
    "from keras.models import Model"
   ]
  },
  {
   "cell_type": "code",
   "execution_count": null,
   "metadata": {},
   "outputs": [],
   "source": [
    "## Import specific modules needed for CNN\n",
    "from VisualiseFilters import SaliencyMask, GradientSaliency, VisualBackprop, deprocess_image, vis_img_in_filter, get_layer_names, activation_maps\n",
    "from Predictions import predictions_rcnn\n",
    "from ViewHistory import view_history\n",
    "from GetImages import get_images\n",
    "from Shuffling import stratified_shuffling_rcnn"
   ]
  },
  {
   "cell_type": "code",
   "execution_count": null,
   "metadata": {},
   "outputs": [],
   "source": [
    "## disp / disp-short / OSNR\n",
    "data = 'disp'\n",
    "\n",
    "## Square sides of resolution\n",
    "img_res = 32"
   ]
  },
  {
   "cell_type": "code",
   "execution_count": null,
   "metadata": {},
   "outputs": [],
   "source": [
    "## File directory to jpg folder\n",
    "train_dir = 'C:/Users/barry.odonnell/Python/input_eye/train_jpg_files_{}'.format(data)\n",
    "\n",
    "## Collects training images and test images\n",
    "train_imgs = ['C:/Users/barry.odonnell/Python/input_eye/train_jpg_files_{}/{}'.format(data, i) for i in os.listdir(train_dir)]"
   ]
  },
  {
   "cell_type": "code",
   "execution_count": null,
   "metadata": {},
   "outputs": [],
   "source": [
    "data = 'disp-short'"
   ]
  },
  {
   "cell_type": "code",
   "execution_count": null,
   "metadata": {},
   "outputs": [],
   "source": [
    "## Obtain image and label arrays\n",
    "X,y = get_images(train_imgs, img_res, GRAY=True, data=data)"
   ]
  },
  {
   "cell_type": "code",
   "execution_count": null,
   "metadata": {},
   "outputs": [],
   "source": [
    "## Assigns each label to an integer, ex. 12dB == 0, 12.5dB == 1...\n",
    "label_encoder = LabelEncoder()\n",
    "integer_encoded = label_encoder.fit_transform(y)\n",
    "\n",
    "## create an array of each value in the set and assign them integers from 0-(n-classes)\n",
    "Y_train = np.expand_dims(integer_encoded, axis=1)\n",
    "Y_train = np.asarray(Y_train)\n",
    "Y = label_encoder.fit_transform(y)\n",
    "\n",
    "## Convert X,y to numpy arrays to allow more operations to gelp us later\n",
    "y = np.array(y)\n",
    "\n",
    "print(\"Shape of train images is:\", X.shape) ## Check for correct shape, should have 4 axes\n",
    "lb = preprocessing.LabelBinarizer()\n",
    "lb.fit(Y)"
   ]
  },
  {
   "cell_type": "code",
   "execution_count": null,
   "metadata": {},
   "outputs": [],
   "source": [
    "X_train, Y_train, X_val, Y_val = stratified_shuffling_rcnn(X, Y_train, (max(Y) + 1), 0.3)"
   ]
  },
  {
   "cell_type": "code",
   "execution_count": null,
   "metadata": {},
   "outputs": [],
   "source": [
    "## Begin definition for Neural Network model.\n",
    "##  A Convolutional Neural Network (CNN) is used for its\n",
    "##  versatility with images, and it's feature map ability.\n",
    "from keras import regularizers\n",
    "from keras.models import Sequential, load_model\n",
    "from keras.layers import Dense, Dropout, Activation, Flatten\n",
    "from keras.layers import Conv2D, MaxPooling2D\n",
    "from keras.preprocessing.image import ImageDataGenerator\n",
    "\n",
    "## Insert image dimensions, preferably square, includinig channel\n",
    "img_dim = (img_res,img_res,3)\n",
    "\n",
    "model_name = 'eye_keras_rcnn-model_{}_{}.h5'.format(data, img_res)\n",
    "\n",
    "## Checks if this model exists.\n",
    "##  If it does, loads said model and skips model building.\n",
    "if os.path.exists(model_name):\n",
    "    print(\"Loading model...\")\n",
    "    model = load_model(model_name)\n",
    "    print(\"{} has been loaded...\".format(model_name))\n",
    "    \n",
    "## Else, builds 'Sequential' model and will contain the layers stated below \n",
    "##  https://keras.io/layers/core/\n",
    "##  https://keras.io/layers/convolutional/\n",
    "else:\n",
    "    print(\"Building Model...\")\n",
    "\n",
    "    model = Sequential()\n",
    "\n",
    "    model.add(Conv2D(8, (7,7), input_shape=(img_dim), kernel_initializer='normal'))\n",
    "    model.add(Activation('relu'))\n",
    "    model.add(MaxPooling2D(pool_size = (2,2)))\n",
    "\n",
    "    model.add(Conv2D(64, (5,5), input_shape=(img_dim), kernel_initializer='normal'))\n",
    "    model.add(Activation('relu'))\n",
    "\n",
    "    model.add(Conv2D(16, (5,5), input_shape=(img_dim), kernel_initializer='normal'))\n",
    "    model.add(Activation('relu'))\n",
    "    model.add(MaxPooling2D(pool_size = (2,2)))\n",
    "    \n",
    "    model.add(Flatten())\n",
    "    model.add(Dense(img_res**2))\n",
    "    model.add(Activation('relu'))\n",
    "    model.add(Dropout(0.2))\n",
    "\n",
    "    model.add(Dense(1))\n",
    "    model.add(Activation('relu'))\n",
    "\n",
    "    model.compile(loss='mean_squared_error',\n",
    "                  optimizer='adam', \n",
    "                  metrics=['mean_squared_error']\n",
    "                 )\n",
    "\n",
    "print(\"\\nModel ('{}') built...\".format(model_name))\n",
    "\n",
    "## Returns model info for user to review and check that it is correct\n",
    "model.summary()"
   ]
  },
  {
   "cell_type": "code",
   "execution_count": null,
   "metadata": {},
   "outputs": [],
   "source": [
    "# data augmentation\n",
    "datagen = ImageDataGenerator(\n",
    "    featurewise_center = False,\n",
    "    samplewise_center = False,\n",
    "    featurewise_std_normalization = False,\n",
    "    samplewise_std_normalization = False,\n",
    "    zca_whitening = False,\n",
    "    rotation_range = 0,\n",
    "    zoom_range = 0,\n",
    "    width_shift_range = .3,\n",
    "    height_shift_range = 0,\n",
    "    horizontal_flip = True,\n",
    "    vertical_flip = False\n",
    "    )\n",
    "\n",
    "datagen.fit(X_train)"
   ]
  },
  {
   "cell_type": "code",
   "execution_count": null,
   "metadata": {},
   "outputs": [],
   "source": [
    "## Begin testing on model\n",
    "print('Training model...')\n",
    "history = model.fit_generator(datagen.flow(X_train, Y_train, batch_size = 32),\n",
    "                   epochs = 50,\n",
    "                   validation_data = (X_val, Y_val),\n",
    "                   steps_per_epoch = 10,\n",
    "                   verbose = 1\n",
    "                   )\n",
    "\n",
    "print('Validating model...')\n",
    "mse, acc = model.evaluate(X_val, Y_val, verbose= 1)\n",
    "print('\\nValidation mean-square-error:', mse)\n"
   ]
  },
  {
   "cell_type": "code",
   "execution_count": null,
   "metadata": {},
   "outputs": [],
   "source": [
    "print(\"\\nSaving model...\")\n",
    "#model.save(model_name) \n",
    "(model.save('{0:3.4f}_'.format(mse)+ model_name))\n",
    "print(\"\\nSaved model as {}...\".format(model_name))"
   ]
  },
  {
   "cell_type": "code",
   "execution_count": null,
   "metadata": {},
   "outputs": [],
   "source": [
    "view_history(history, show_acc = False)"
   ]
  },
  {
   "cell_type": "code",
   "execution_count": null,
   "metadata": {},
   "outputs": [],
   "source": [
    "#model = load_model('0.0056_eye_keras_rcnn-model_disp_64.h5')\n",
    "#model.summary()"
   ]
  },
  {
   "cell_type": "code",
   "execution_count": null,
   "metadata": {},
   "outputs": [],
   "source": [
    "predictions_rcnn(model, X_train, Y_train)\n",
    "\n",
    "predictions_rcnn(model,\n",
    "                 X_val,\n",
    "                 Y_val,\n",
    "                 convert=True,\n",
    "                 data=data,\n",
    "                 types=Y,\n",
    "                 errorbars=True,\n",
    "                 mse=mse)"
   ]
  },
  {
   "cell_type": "code",
   "execution_count": null,
   "metadata": {},
   "outputs": [],
   "source": [
    "layers = get_layer_names(model, show=True)"
   ]
  },
  {
   "cell_type": "code",
   "execution_count": null,
   "metadata": {},
   "outputs": [],
   "source": [
    "vis_img_in_filter(model,\n",
    "                  X_train,\n",
    "                  img_num=-2,\n",
    "                  img_res=img_res,\n",
    "                  layer_num=5,\n",
    "                  GRAY=True)"
   ]
  },
  {
   "cell_type": "code",
   "execution_count": null,
   "metadata": {},
   "outputs": [],
   "source": [
    "Y_train_label = lb.inverse_transform(Y_train)\n",
    "\n",
    "activation_maps(model,\n",
    "                X_train,\n",
    "                Y_train_label,\n",
    "                img_res=img_res,\n",
    "                show_img=4\n",
    "               )"
   ]
  },
  {
   "cell_type": "code",
   "execution_count": null,
   "metadata": {},
   "outputs": [],
   "source": []
  }
 ],
 "metadata": {
  "kernelspec": {
   "display_name": "Python 3",
   "language": "python",
   "name": "python3"
  },
  "language_info": {
   "codemirror_mode": {
    "name": "ipython",
    "version": 3
   },
   "file_extension": ".py",
   "mimetype": "text/x-python",
   "name": "python",
   "nbconvert_exporter": "python",
   "pygments_lexer": "ipython3",
   "version": "3.7.4"
  }
 },
 "nbformat": 4,
 "nbformat_minor": 4
}
