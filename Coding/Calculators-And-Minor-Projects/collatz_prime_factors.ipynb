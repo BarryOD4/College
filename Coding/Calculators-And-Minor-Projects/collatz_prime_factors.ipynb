{
 "cells": [
  {
   "cell_type": "code",
   "execution_count": 1,
   "metadata": {},
   "outputs": [],
   "source": [
    "import matplotlib.pyplot as plt\n",
    "import numpy as np"
   ]
  },
  {
   "cell_type": "code",
   "execution_count": 2,
   "metadata": {},
   "outputs": [],
   "source": [
    "def collatz(n, plot=True):\n",
    "    \n",
    "    iteration = 0\n",
    "    maxY = []\n",
    "    while n != 1:\n",
    "        if (n % 2) == 0:\n",
    "            n //= 2\n",
    "        else:\n",
    "            n = 3*n + 1\n",
    "            \n",
    "        iteration += 1\n",
    "        \n",
    "        if plot is True:\n",
    "            plt.plot(iteration, n, 'r.')\n",
    "            \n",
    "    return iteration"
   ]
  },
  {
   "cell_type": "code",
   "execution_count": 3,
   "metadata": {},
   "outputs": [],
   "source": [
    "def collatz_graph(n):\n",
    "    \n",
    "    iteration = 0\n",
    "    x, y = [], []\n",
    "    \n",
    "    while n != 1:\n",
    "        if (n % 2) == 0:\n",
    "            n //= 2\n",
    "        else:\n",
    "            n = 3*n + 1\n",
    "\n",
    "        y.append(n)\n",
    "        iteration += 1\n",
    "        x.append(iteration)\n",
    "        \n",
    "        plt.plot(x, y)#, 'r')"
   ]
  },
  {
   "cell_type": "code",
   "execution_count": 4,
   "metadata": {},
   "outputs": [
    {
     "name": "stdout",
     "output_type": "stream",
     "text": [
      "The number with the most iterations is 97, with 118 iterations.\n",
      "\n",
      "The graph of this sequence is;\n",
      "\n"
     ]
    },
    {
     "data": {
      "image/png": "[encoded data removed]",
      "text/plain": [
       "<Figure size 432x288 with 1 Axes>"
      ]
     },
     "metadata": {
      "needs_background": "light"
     },
     "output_type": "display_data"
    }
   ],
   "source": [
    "maxY = 0\n",
    "maxY_temp = 0\n",
    "for i in range(100):\n",
    "    maxY = collatz(i+1, plot=False)\n",
    "    if maxY > maxY_temp:\n",
    "        \n",
    "        maxIterations = maxY\n",
    "        maxNumber = i+1\n",
    "        \n",
    "        maxY_temp = maxY\n",
    "\n",
    "print(\"\"\"The number with the most iterations is {}, with {} iterations.\n",
    "\n",
    "The graph of this sequence is;\n",
    "\"\"\".format(maxNumber, maxIterations))\n",
    "\n",
    "collatz_graph(maxNumber)"
   ]
  },
  {
   "cell_type": "code",
   "execution_count": 5,
   "metadata": {},
   "outputs": [
    {
     "data": {
      "text/plain": [
       "0"
      ]
     },
     "execution_count": 5,
     "metadata": {},
     "output_type": "execute_result"
    }
   ],
   "source": [
    "1//2"
   ]
  },
  {
   "cell_type": "code",
   "execution_count": 9,
   "metadata": {},
   "outputs": [],
   "source": [
    "def getPrimes(n):\n",
    "    \n",
    "    primes = []\n",
    "\n",
    "    if n > 1:\n",
    "        for i in range(2, n+1):\n",
    "            prime = True\n",
    "            for j in range(2, i):\n",
    "                if (i%j) == 0:\n",
    "                    prime = False\n",
    "\n",
    "            if prime is True:\n",
    "                primes.append(i)\n",
    "    return primes\n",
    "\n",
    "#def findCoPrime()"
   ]
  },
  {
   "cell_type": "code",
   "execution_count": 10,
   "metadata": {},
   "outputs": [],
   "source": [
    "def getPrimeFactors(n):\n",
    "    \"\"\" Also called 'Trial Factorization'.\"\"\"\n",
    "    \n",
    "    primes = getPrimes(n)\n",
    "    primeFactors = []\n",
    "    \n",
    "    found = False\n",
    "    i = 0    \n",
    "    n_temp = n\n",
    "\n",
    "    while found != True:\n",
    "        if (n_temp % primes[i]) == 0:\n",
    "            primeFactors.append(primes[i])\n",
    "            n_temp //= primes[i]\n",
    "            \n",
    "        elif np.product(primeFactors) == n:\n",
    "                    found = True\n",
    "        else:\n",
    "            i += 1\n",
    "\n",
    "    return primeFactors"
   ]
  },
  {
   "cell_type": "code",
   "execution_count": 12,
   "metadata": {},
   "outputs": [
    {
     "name": "stdout",
     "output_type": "stream",
     "text": [
      "[3, 3, 3, 3, 3, 3]\n",
      "3 x 3 = 9\n",
      "9 x 3 = 27\n",
      "27 x 3 = 81\n",
      "81 x 3 = 243\n",
      "243 x 3 = 729\n",
      "\n",
      " 729 is our initial input\n"
     ]
    }
   ],
   "source": [
    "n = 729\n",
    "\n",
    "primeFactors = getPrimeFactors(n)\n",
    "print(primeFactors)\n",
    "\n",
    "for i in range(len(primeFactors)):\n",
    "    if i == 0:\n",
    "        temp = primeFactors[i]\n",
    "    else:\n",
    "        new_temp = temp * primeFactors[i]\n",
    "        print(\"{} x {} = {}\".format(temp, primeFactors[i], new_temp))\n",
    "        temp = new_temp\n",
    "print(\"\\n\", n, \"is our initial input\")"
   ]
  },
  {
   "cell_type": "code",
   "execution_count": 13,
   "metadata": {},
   "outputs": [
    {
     "data": {
      "text/plain": [
       "[1, 1, 2, 1, 2, 1, 3, 2]"
      ]
     },
     "execution_count": 13,
     "metadata": {},
     "output_type": "execute_result"
    },
    {
     "data": {
      "image/png": "[encoded data removed]",
      "text/plain": [
       "<Figure size 432x288 with 1 Axes>"
      ]
     },
     "metadata": {
      "needs_background": "light"
     },
     "output_type": "display_data"
    }
   ],
   "source": [
    "n = 10\n",
    "factorAmounts = []\n",
    "\n",
    "for i in range(2, n):\n",
    "    factorAmounts.append(len(getPrimeFactors(i)))\n",
    "\n",
    "x = np.linspace(1, n, num=n)\n",
    "\n",
    "plt.plot(factorAmounts, 'o')\n",
    "\n",
    "factorAmounts"
   ]
  },
  {
   "cell_type": "code",
   "execution_count": null,
   "metadata": {},
   "outputs": [],
   "source": []
  }
 ],
 "metadata": {
  "kernelspec": {
   "display_name": "Python 3",
   "language": "python",
   "name": "python3"
  },
  "language_info": {
   "codemirror_mode": {
    "name": "ipython",
    "version": 3
   },
   "file_extension": ".py",
   "mimetype": "text/x-python",
   "name": "python",
   "nbconvert_exporter": "python",
   "pygments_lexer": "ipython3",
   "version": "3.8.5"
  }
 },
 "nbformat": 4,
 "nbformat_minor": 4
}
